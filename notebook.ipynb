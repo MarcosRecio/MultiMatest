{
 "cells": [
  {
   "cell_type": "markdown",
   "metadata": {},
   "source": [
    "# MultiMatest"
   ]
  },
  {
   "cell_type": "markdown",
   "metadata": {},
   "source": [
    "## Libraries"
   ]
  },
  {
   "cell_type": "code",
   "execution_count": 1,
   "metadata": {},
   "outputs": [],
   "source": [
    "import parser\n",
    "import itertools\n",
    "import pandas as pd"
   ]
  },
  {
   "cell_type": "code",
   "execution_count": 2,
   "metadata": {},
   "outputs": [],
   "source": [
    "logic = parser.Parser(language=parser.propositional_language())\n",
    "predicates = logic.language.predicates\n",
    "operators = logic.language.ops\n",
    "formula = \"a&(a->~b)->a\"\n",
    "formula_parsed = logic.parse(formula)\n",
    "values = list(range(2))\n",
    "min_designated = 1\n",
    "designated_values = list(filter(lambda x: x>=min_designated, values))"
   ]
  },
  {
   "cell_type": "code",
   "execution_count": 24,
   "metadata": {},
   "outputs": [],
   "source": [
    "inputs = formula_parsed.inputs\n",
    "formula_to_interpret = list(map(lambda x: x.decode('ascii'),formula_parsed.ops.copy()))"
   ]
  },
  {
   "cell_type": "code",
   "execution_count": 43,
   "metadata": {},
   "outputs": [
    {
     "data": {
      "text/plain": [
       "['a', 'a', 'b', '~', '->', 'a', '->', '&']"
      ]
     },
     "execution_count": 43,
     "metadata": {},
     "output_type": "execute_result"
    }
   ],
   "source": [
    "formula_to_interpret"
   ]
  },
  {
   "cell_type": "code",
   "execution_count": 4,
   "metadata": {},
   "outputs": [],
   "source": [
    "preds = list(sorted(set(filter(lambda x: x in predicates, formula_to_interpret))))"
   ]
  },
  {
   "cell_type": "code",
   "execution_count": 14,
   "metadata": {},
   "outputs": [],
   "source": [
    "interpretations = list(itertools.product(values, repeat = len(preds)))"
   ]
  },
  {
   "cell_type": "code",
   "execution_count": 35,
   "metadata": {},
   "outputs": [
    {
     "data": {
      "text/plain": [
       "[(0, 0), (0, 1), (1, 0), (1, 1)]"
      ]
     },
     "execution_count": 35,
     "metadata": {},
     "output_type": "execute_result"
    }
   ],
   "source": [
    "interpretations"
   ]
  },
  {
   "cell_type": "code",
   "execution_count": 38,
   "metadata": {},
   "outputs": [],
   "source": [
    "replacements = [dict(zip(preds, interpretation)) for interpretation in interpretations]"
   ]
  },
  {
   "cell_type": "code",
   "execution_count": 39,
   "metadata": {},
   "outputs": [
    {
     "data": {
      "text/plain": [
       "[{'a': 0, 'b': 0}, {'a': 0, 'b': 1}, {'a': 1, 'b': 0}, {'a': 1, 'b': 1}]"
      ]
     },
     "execution_count": 39,
     "metadata": {},
     "output_type": "execute_result"
    }
   ],
   "source": [
    "replacements"
   ]
  },
  {
   "cell_type": "code",
   "execution_count": 41,
   "metadata": {},
   "outputs": [],
   "source": [
    "interp = list(map(replacements[0].get, formula_to_interpret, formula_to_interpret))"
   ]
  },
  {
   "cell_type": "code",
   "execution_count": 46,
   "metadata": {},
   "outputs": [],
   "source": [
    "def unary_operator(matrix):\n",
    "    return lambda x: matrix[x]\n",
    "\n",
    "def binary_operator(matrix):\n",
    "    return lambda x, y: matrix[x][y]\n",
    "\n",
    "negation = unary_operator([1,0])\n",
    "\n",
    "conjuntion = binary_operator([[0,0],\n",
    "                              [0,1]])\n",
    "disjunction = binary_operator([[0,1],\n",
    "                               [1,1]])\n",
    "implication = binary_operator([[1,1],\n",
    "                               [0,1]])\n",
    "\n",
    "logic_functions = {'~':negation, '&':conjuntion, 'v':disjunction, '->': implication}"
   ]
  },
  {
   "cell_type": "code",
   "execution_count": 11,
   "metadata": {},
   "outputs": [
    {
     "data": {
      "text/plain": [
       "[0, 0, 0, '~', '->', 0, '->', '&']"
      ]
     },
     "execution_count": 11,
     "metadata": {},
     "output_type": "execute_result"
    }
   ],
   "source": [
    "interp"
   ]
  },
  {
   "cell_type": "code",
   "execution_count": 30,
   "metadata": {},
   "outputs": [
    {
     "data": {
      "text/plain": [
       "[[], [], [], [-1], [-3, -1], [], [-2, -1], [-7, -1]]"
      ]
     },
     "execution_count": 30,
     "metadata": {},
     "output_type": "execute_result"
    }
   ],
   "source": [
    "inputs"
   ]
  },
  {
   "cell_type": "code",
   "execution_count": 16,
   "metadata": {},
   "outputs": [
    {
     "data": {
      "text/html": [
       "<div>\n",
       "<style scoped>\n",
       "    .dataframe tbody tr th:only-of-type {\n",
       "        vertical-align: middle;\n",
       "    }\n",
       "\n",
       "    .dataframe tbody tr th {\n",
       "        vertical-align: top;\n",
       "    }\n",
       "\n",
       "    .dataframe thead th {\n",
       "        text-align: right;\n",
       "    }\n",
       "</style>\n",
       "<table border=\"1\" class=\"dataframe\">\n",
       "  <thead>\n",
       "    <tr style=\"text-align: right;\">\n",
       "      <th></th>\n",
       "      <th>0</th>\n",
       "      <th>1</th>\n",
       "      <th>2</th>\n",
       "      <th>3</th>\n",
       "      <th>4</th>\n",
       "      <th>5</th>\n",
       "      <th>6</th>\n",
       "      <th>7</th>\n",
       "    </tr>\n",
       "  </thead>\n",
       "  <tbody>\n",
       "    <tr>\n",
       "      <th>0</th>\n",
       "      <td>0</td>\n",
       "      <td>0</td>\n",
       "      <td>0</td>\n",
       "      <td>~</td>\n",
       "      <td>-&gt;</td>\n",
       "      <td>0</td>\n",
       "      <td>-&gt;</td>\n",
       "      <td>&amp;</td>\n",
       "    </tr>\n",
       "    <tr>\n",
       "      <th>1</th>\n",
       "      <td>[]</td>\n",
       "      <td>[]</td>\n",
       "      <td>[]</td>\n",
       "      <td>[-1]</td>\n",
       "      <td>[-3, -1]</td>\n",
       "      <td>[]</td>\n",
       "      <td>[-2, -1]</td>\n",
       "      <td>[-7, -1]</td>\n",
       "    </tr>\n",
       "  </tbody>\n",
       "</table>\n",
       "</div>"
      ],
      "text/plain": [
       "    0   1   2     3         4   5         6         7\n",
       "0   0   0   0     ~        ->   0        ->         &\n",
       "1  []  []  []  [-1]  [-3, -1]  []  [-2, -1]  [-7, -1]"
      ]
     },
     "execution_count": 16,
     "metadata": {},
     "output_type": "execute_result"
    }
   ],
   "source": [
    "pd.DataFrame([interp, inputs])"
   ]
  },
  {
   "cell_type": "code",
   "execution_count": 32,
   "metadata": {},
   "outputs": [],
   "source": [
    "interp_func = list(map(logic_functions.get, interp, interp))"
   ]
  },
  {
   "cell_type": "code",
   "execution_count": 62,
   "metadata": {},
   "outputs": [],
   "source": [
    "interpret_function = list(map(logic_functions.get, formula_to_interpret, formula_to_interpret))\n",
    "formula_interpretations = [list(map(replacement.get, interpret_function, interpret_function)) for replacement in replacements]"
   ]
  },
  {
   "cell_type": "code",
   "execution_count": 87,
   "metadata": {},
   "outputs": [
    {
     "data": {
      "text/plain": [
       "[0,\n",
       " 0,\n",
       " 0,\n",
       " <function __main__.unary_operator.<locals>.<lambda>(x)>,\n",
       " <function __main__.binary_operator.<locals>.<lambda>(x, y)>,\n",
       " 0,\n",
       " <function __main__.binary_operator.<locals>.<lambda>(x, y)>,\n",
       " <function __main__.binary_operator.<locals>.<lambda>(x, y)>]"
      ]
     },
     "execution_count": 87,
     "metadata": {},
     "output_type": "execute_result"
    }
   ],
   "source": [
    "formula_interpretations[0]"
   ]
  },
  {
   "cell_type": "code",
   "execution_count": null,
   "metadata": {},
   "outputs": [],
   "source": [
    "def interpret_formula(interpretation, inputs):\n",
    "    "
   ]
  },
  {
   "cell_type": "code",
   "execution_count": 85,
   "metadata": {},
   "outputs": [
    {
     "name": "stdout",
     "output_type": "stream",
     "text": [
      "3 <function unary_operator.<locals>.<lambda> at 0x7f8197fb43a0> [2] [0] 1\n",
      "4 <function binary_operator.<locals>.<lambda> at 0x7f8197bf08b0> [1, 3] [0, 1] 1\n",
      "6 <function binary_operator.<locals>.<lambda> at 0x7f8197bf08b0> [4, 5] [1, 0] 0\n",
      "7 <function binary_operator.<locals>.<lambda> at 0x7f8197bf0040> [0, 6] [0, 0] 0\n",
      "3 <function unary_operator.<locals>.<lambda> at 0x7f8197fb43a0> [2] [1] 0\n",
      "4 <function binary_operator.<locals>.<lambda> at 0x7f8197bf08b0> [1, 3] [0, 0] 1\n",
      "6 <function binary_operator.<locals>.<lambda> at 0x7f8197bf08b0> [4, 5] [1, 0] 0\n",
      "7 <function binary_operator.<locals>.<lambda> at 0x7f8197bf0040> [0, 6] [0, 0] 0\n",
      "3 <function unary_operator.<locals>.<lambda> at 0x7f8197fb43a0> [2] [0] 1\n",
      "4 <function binary_operator.<locals>.<lambda> at 0x7f8197bf08b0> [1, 3] [1, 1] 1\n",
      "6 <function binary_operator.<locals>.<lambda> at 0x7f8197bf08b0> [4, 5] [1, 1] 1\n",
      "7 <function binary_operator.<locals>.<lambda> at 0x7f8197bf0040> [0, 6] [1, 1] 1\n",
      "3 <function unary_operator.<locals>.<lambda> at 0x7f8197fb43a0> [2] [1] 0\n",
      "4 <function binary_operator.<locals>.<lambda> at 0x7f8197bf08b0> [1, 3] [1, 0] 0\n",
      "6 <function binary_operator.<locals>.<lambda> at 0x7f8197bf08b0> [4, 5] [0, 1] 1\n",
      "7 <function binary_operator.<locals>.<lambda> at 0x7f8197bf0040> [0, 6] [1, 1] 1\n"
     ]
    }
   ],
   "source": [
    "new_interpretation = []\n",
    "for formula_interpretation in formula_interpretations:\n",
    "    \n",
    "    interpretation_ = []\n",
    "\n",
    "    for index, symbol in enumerate(formula_interpretation):\n",
    "        if symbol in values:\n",
    "            interpretation_.append(symbol)\n",
    "        else:\n",
    "            places = list(map(lambda x: index+x, inputs[index]))\n",
    "            vals = list(map(lambda x: interpretation_[x], places))\n",
    "            val = symbol(*vals)\n",
    "            interpretation_.append(val)\n",
    "            print(index, symbol, places, vals, symbol(*vals))\n",
    "\n",
    "    new_interpretation.append(interpretation_)"
   ]
  },
  {
   "cell_type": "code",
   "execution_count": 86,
   "metadata": {},
   "outputs": [
    {
     "data": {
      "text/html": [
       "<div>\n",
       "<style scoped>\n",
       "    .dataframe tbody tr th:only-of-type {\n",
       "        vertical-align: middle;\n",
       "    }\n",
       "\n",
       "    .dataframe tbody tr th {\n",
       "        vertical-align: top;\n",
       "    }\n",
       "\n",
       "    .dataframe thead th {\n",
       "        text-align: right;\n",
       "    }\n",
       "</style>\n",
       "<table border=\"1\" class=\"dataframe\">\n",
       "  <thead>\n",
       "    <tr style=\"text-align: right;\">\n",
       "      <th></th>\n",
       "      <th>a</th>\n",
       "      <th>a</th>\n",
       "      <th>b</th>\n",
       "      <th>~</th>\n",
       "      <th>-&gt;</th>\n",
       "      <th>a</th>\n",
       "      <th>-&gt;</th>\n",
       "      <th>&amp;</th>\n",
       "    </tr>\n",
       "  </thead>\n",
       "  <tbody>\n",
       "    <tr>\n",
       "      <th>(0, 0)</th>\n",
       "      <td>0</td>\n",
       "      <td>0</td>\n",
       "      <td>0</td>\n",
       "      <td>1</td>\n",
       "      <td>1</td>\n",
       "      <td>0</td>\n",
       "      <td>0</td>\n",
       "      <td>0</td>\n",
       "    </tr>\n",
       "    <tr>\n",
       "      <th>(0, 1)</th>\n",
       "      <td>0</td>\n",
       "      <td>0</td>\n",
       "      <td>1</td>\n",
       "      <td>0</td>\n",
       "      <td>1</td>\n",
       "      <td>0</td>\n",
       "      <td>0</td>\n",
       "      <td>0</td>\n",
       "    </tr>\n",
       "    <tr>\n",
       "      <th>(1, 0)</th>\n",
       "      <td>1</td>\n",
       "      <td>1</td>\n",
       "      <td>0</td>\n",
       "      <td>1</td>\n",
       "      <td>1</td>\n",
       "      <td>1</td>\n",
       "      <td>1</td>\n",
       "      <td>1</td>\n",
       "    </tr>\n",
       "    <tr>\n",
       "      <th>(1, 1)</th>\n",
       "      <td>1</td>\n",
       "      <td>1</td>\n",
       "      <td>1</td>\n",
       "      <td>0</td>\n",
       "      <td>0</td>\n",
       "      <td>1</td>\n",
       "      <td>1</td>\n",
       "      <td>1</td>\n",
       "    </tr>\n",
       "  </tbody>\n",
       "</table>\n",
       "</div>"
      ],
      "text/plain": [
       "        a  a  b  ~  ->  a  ->  &\n",
       "(0, 0)  0  0  0  1   1  0   0  0\n",
       "(0, 1)  0  0  1  0   1  0   0  0\n",
       "(1, 0)  1  1  0  1   1  1   1  1\n",
       "(1, 1)  1  1  1  0   0  1   1  1"
      ]
     },
     "execution_count": 86,
     "metadata": {},
     "output_type": "execute_result"
    }
   ],
   "source": [
    "pd.DataFrame(new_interpretation, columns=formula_to_interpret,index=interpretations)"
   ]
  }
 ],
 "metadata": {
  "kernelspec": {
   "display_name": "Python 3.10.6 ('MultiMatest')",
   "language": "python",
   "name": "python3"
  },
  "language_info": {
   "codemirror_mode": {
    "name": "ipython",
    "version": 3
   },
   "file_extension": ".py",
   "mimetype": "text/x-python",
   "name": "python",
   "nbconvert_exporter": "python",
   "pygments_lexer": "ipython3",
   "version": "3.10.6"
  },
  "orig_nbformat": 4,
  "vscode": {
   "interpreter": {
    "hash": "dd08078df59e120696940d7c654fc0c05f7b7c99f50aa46ce527c01abeff6b01"
   }
  }
 },
 "nbformat": 4,
 "nbformat_minor": 2
}
